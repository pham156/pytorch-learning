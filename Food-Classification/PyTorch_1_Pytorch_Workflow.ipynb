{
  "nbformat": 4,
  "nbformat_minor": 0,
  "metadata": {
    "colab": {
      "provenance": [],
      "authorship_tag": "ABX9TyOcwrt8hmfEokXbg3YuZCoU",
      "include_colab_link": true
    },
    "kernelspec": {
      "name": "python3",
      "display_name": "Python 3"
    },
    "language_info": {
      "name": "python"
    }
  },
  "cells": [
    {
      "cell_type": "markdown",
      "metadata": {
        "id": "view-in-github",
        "colab_type": "text"
      },
      "source": [
        "<a href=\"https://colab.research.google.com/github/pham156/pytorch-learning/blob/main/Pytorch_1_Pytorch_Workflow.ipynb\" target=\"_parent\"><img src=\"https://colab.research.google.com/assets/colab-badge.svg\" alt=\"Open In Colab\"/></a>"
      ]
    },
    {
      "cell_type": "code",
      "execution_count": null,
      "metadata": {
        "id": "p2yBMaGqVr3a"
      },
      "outputs": [],
      "source": [
        "import torch\n",
        "from torch import nn # neural network\n",
        "import matplotlib.pyplot as plt\n"
      ]
    },
    {
      "cell_type": "code",
      "source": [
        "# Data (preparing and loading)"
      ],
      "metadata": {
        "id": "1qcpSQScaYi8"
      },
      "execution_count": null,
      "outputs": []
    },
    {
      "cell_type": "code",
      "source": [
        "weight, bias = 0.7, 0.3\n",
        "start, end, step = 0, 1, 0.02\n",
        "X = torch.arange(start, end, step).unsqueeze(dim = 1)\n",
        "y = weight * X + step"
      ],
      "metadata": {
        "id": "zgYM8qledymV"
      },
      "execution_count": null,
      "outputs": []
    },
    {
      "cell_type": "code",
      "source": [
        "train_split = int(0.8 * len(X))\n",
        "X_train, y_train = X[:train_split], y[:train_split]\n",
        "X_test, y_test = X[train_split:], y[train_split:]"
      ],
      "metadata": {
        "id": "tR2kRJNQeqyF"
      },
      "execution_count": null,
      "outputs": []
    },
    {
      "cell_type": "code",
      "source": [
        "def plot_predictions(train_data = X_train,\n",
        "                     train_labels = y_train,\n",
        "                     test_data = X_test,\n",
        "                     test_labels = y_test,\n",
        "                     predictions = None):\n",
        "  plt.figure(figsize = (7,10))\n",
        "  plt.scatter(train_data, train_labels, c=\"b\", s=4, label=\"Training data\")\n",
        "  plt.scatter(test_data, test_labels, c=\"g\", s=4, label=\"Testing data\")\n",
        "  if predictions is not None:\n",
        "    plt.scatter(test_data, predictions, c=\"r\", s=4, label=\"Predictions\")\n",
        "  plt.legend(prop={\"size\": 14});"
      ],
      "metadata": {
        "id": "VDZfUFtCimn8"
      },
      "execution_count": null,
      "outputs": []
    },
    {
      "cell_type": "code",
      "source": [
        "class LinearRegressionModel(nn.Module):\n",
        "  def __init__(self):\n",
        "    super().__init__()\n",
        "    self.weights = nn.Parameter(torch.randn(1,\n",
        "                                            requires_grad=True,\n",
        "                                            dtype=torch.float))\n",
        "    self.bias = nn.Parameter(torch.randn(1,\n",
        "                                          requires_grad=True,\n",
        "                                          dtype=torch.float))\n",
        "  def forward(self, x: torch.Tensor):\n",
        "    return self.weights * x + self.bias\n",
        "  ..."
      ],
      "metadata": {
        "id": "ZurIHeDujJOP"
      },
      "execution_count": null,
      "outputs": []
    },
    {
      "cell_type": "code",
      "source": [
        "torch.manual_seed(42)\n",
        "model_0 = LinearRegressionModel()\n",
        "list(model_0.parameters())"
      ],
      "metadata": {
        "colab": {
          "base_uri": "https://localhost:8080/"
        },
        "id": "mnOz6QdhxBll",
        "outputId": "8c25895e-68c9-44d0-8c2f-29eaf786f388"
      },
      "execution_count": null,
      "outputs": [
        {
          "output_type": "execute_result",
          "data": {
            "text/plain": [
              "[Parameter containing:\n",
              " tensor([0.3367], requires_grad=True),\n",
              " Parameter containing:\n",
              " tensor([0.1288], requires_grad=True)]"
            ]
          },
          "metadata": {},
          "execution_count": 59
        }
      ]
    },
    {
      "cell_type": "code",
      "source": [
        "model_0.state_dict()"
      ],
      "metadata": {
        "colab": {
          "base_uri": "https://localhost:8080/"
        },
        "id": "WvvgiUc8z7K3",
        "outputId": "d84b0a39-4303-4df6-e827-6becd96909c9"
      },
      "execution_count": null,
      "outputs": [
        {
          "output_type": "execute_result",
          "data": {
            "text/plain": [
              "OrderedDict([('weights', tensor([0.3367])), ('bias', tensor([0.1288]))])"
            ]
          },
          "metadata": {},
          "execution_count": 60
        }
      ]
    },
    {
      "cell_type": "code",
      "source": [
        "with torch.inference_mode():\n",
        "  y_preds = model_0(X_test)\n",
        "# plot_predictions(predictions=y_preds)"
      ],
      "metadata": {
        "id": "fxwRIGfIz-9E"
      },
      "execution_count": null,
      "outputs": []
    },
    {
      "cell_type": "code",
      "source": [
        "# loss func https://pytorch.org/docs/stable/nn.html#loss-functions\n",
        "loss_fn = nn.L1Loss() # MAE\n",
        "# opt https://pytorch.org/docs/stable/optim.html\n",
        "optimizer = torch.optim.SGD(params = model_0.parameters(),\n",
        "                            lr = 0.01)"
      ],
      "metadata": {
        "id": "bkVAUowb0io2"
      },
      "execution_count": null,
      "outputs": []
    },
    {
      "cell_type": "code",
      "source": [
        "torch.manual_seed(42)\n",
        "\n",
        "# Set the number of epochs (how many times the model will pass over the training data)\n",
        "epochs = 100\n",
        "\n",
        "# Create empty loss lists to track values\n",
        "train_loss_values = []\n",
        "test_loss_values = []\n",
        "epoch_count = []\n",
        "\n",
        "for epoch in range(epochs):\n",
        "    ### Training\n",
        "\n",
        "    # Put model in training mode (this is the default state of a model)\n",
        "    model_0.train()\n",
        "\n",
        "    # 1. Forward pass on train data using the forward() method inside\n",
        "    y_pred = model_0(X_train)\n",
        "    # print(y_pred)\n",
        "\n",
        "    # 2. Calculate the loss (how different are our models predictions to the ground truth)\n",
        "    loss = loss_fn(y_pred, y_train)\n",
        "\n",
        "    # 3. Zero grad of the optimizer\n",
        "    optimizer.zero_grad()\n",
        "\n",
        "    # 4. Loss backwards\n",
        "    loss.backward() # compute parameter gradients, ect from loss\n",
        "\n",
        "    # 5. Progress the optimizer\n",
        "    optimizer.step() # use gradient, ect to optimize\n",
        "\n",
        "    ### Testing\n",
        "\n",
        "    # Put the model in evaluation mode\n",
        "    model_0.eval()\n",
        "\n",
        "    with torch.inference_mode():\n",
        "      # 1. Forward pass on test data\n",
        "      test_pred = model_0(X_test)\n",
        "\n",
        "      # 2. Caculate loss on test data\n",
        "      test_loss = loss_fn(test_pred, y_test.type(torch.float)) # predictions come in torch.float datatype, so comparisons need to be done with tensors of the same type\n",
        "\n",
        "      # Print out what's happening\n",
        "      if epoch % 10 == 0:\n",
        "            epoch_count.append(epoch)\n",
        "            train_loss_values.append(loss.detach().numpy())\n",
        "            test_loss_values.append(test_loss.detach().numpy())\n",
        "            print(f\"Epoch: {epoch} | MAE Train Loss: {loss} | MAE Test Loss: {test_loss} \")"
      ],
      "metadata": {
        "colab": {
          "base_uri": "https://localhost:8080/"
        },
        "id": "Qoch188X79zX",
        "outputId": "7a4e62c6-e9c3-4f65-dc48-ab77f72856d6"
      },
      "execution_count": null,
      "outputs": [
        {
          "output_type": "stream",
          "name": "stdout",
          "text": [
            "Epoch: 0 | MAE Train Loss: 0.07634089887142181 | MAE Test Loss: 0.20949964225292206 \n",
            "Epoch: 10 | MAE Train Loss: 0.06788711249828339 | MAE Test Loss: 0.17518579959869385 \n",
            "Epoch: 20 | MAE Train Loss: 0.06347592175006866 | MAE Test Loss: 0.15537849068641663 \n",
            "Epoch: 30 | MAE Train Loss: 0.059870801866054535 | MAE Test Loss: 0.1430024355649948 \n",
            "Epoch: 40 | MAE Train Loss: 0.05638080835342407 | MAE Test Loss: 0.13198237121105194 \n",
            "Epoch: 50 | MAE Train Loss: 0.05292920023202896 | MAE Test Loss: 0.12302298843860626 \n",
            "Epoch: 60 | MAE Train Loss: 0.049490392208099365 | MAE Test Loss: 0.11475052684545517 \n",
            "Epoch: 70 | MAE Train Loss: 0.04605617746710777 | MAE Test Loss: 0.10716497898101807 \n",
            "Epoch: 80 | MAE Train Loss: 0.04262556880712509 | MAE Test Loss: 0.09889253228902817 \n",
            "Epoch: 90 | MAE Train Loss: 0.0391867570579052 | MAE Test Loss: 0.09062011539936066 \n"
          ]
        }
      ]
    },
    {
      "cell_type": "code",
      "source": [
        "import numpy as np\n"
      ],
      "metadata": {
        "id": "LW_2ib4pCB-C"
      },
      "execution_count": null,
      "outputs": []
    },
    {
      "cell_type": "code",
      "source": [
        "# plt.plot(epoch_count, np.array(torch.tensor(train_loss_values).numpy), label=\"Train loss\")\n",
        "# plt.plot(epoch_count, np.array(torch.tensor(test_loss_values).numpy), label=\"Test loss\")\n",
        "# plt.title(\"Training and test loss curves\")\n",
        "# plt.ylabel(\"Loss\")\n",
        "# plt.xlabel(\"Epochs\")\n",
        "# plt.legend();\n",
        "plt.plot(epoch_count, train_loss_values, label=\"Train loss\")\n",
        "plt.plot(epoch_count, test_loss_values, label=\"Test loss\")\n",
        "plt.title(\"Training and test loss curves\")\n",
        "plt.ylabel(\"Loss\")\n",
        "plt.xlabel(\"Epochs\")\n",
        "plt.legend();"
      ],
      "metadata": {
        "colab": {
          "base_uri": "https://localhost:8080/",
          "height": 472
        },
        "id": "fbg6RuAhBze-",
        "outputId": "ae66cc80-2e69-4c11-9e9c-5f0e26dd8b34"
      },
      "execution_count": null,
      "outputs": [
        {
          "output_type": "display_data",
          "data": {
            "text/plain": [
              "<Figure size 640x480 with 1 Axes>"
            ],
            "image/png": "[encoded data removed]"
          },
          "metadata": {}
        }
      ]
    },
    {
      "cell_type": "code",
      "source": [
        "# torch.save()\n",
        "# torch.load()\n",
        "# torch.nn.Module.load_state_dict()\n",
        "\n",
        "## for google colab\n",
        "# from pathlib import Path\n",
        "\n",
        "# # 1. Create models directory\n",
        "# MODEL_PATH = Path(\"models\")\n",
        "# MODEL_PATH.mkdir(parents=True, exist_ok=True)\n",
        "\n",
        "# # 2. Create model save path\n",
        "# MODEL_NAME = \"01_pytorch_workflow_model_0.pth\"\n",
        "# MODEL_SAVE_PATH = MODEL_PATH / MODEL_NAME\n",
        "\n",
        "# # 3. Save the model state dict\n",
        "# print(f\"Saving model to: {MODEL_SAVE_PATH}\")\n",
        "# torch.save(obj=model_0.state_dict(), # only saving the state_dict() only saves the models learned parameters\n",
        "#            f=MODEL_SAVE_PATH)"
      ],
      "metadata": {
        "id": "wIoi_CEgE94h"
      },
      "execution_count": null,
      "outputs": []
    },
    {
      "cell_type": "code",
      "source": [
        "## Load a mode\n",
        "# load_model_0 = LinearRegressionModel()\n",
        "# load_model_0.load_state_dict(torch.load(f = MODEL_SAVE_PATH))\n",
        "\n",
        "# # Make prediction:\n",
        "# loaded_model_0.eval()\n",
        "# with torch.inference_mode():\n",
        "#     loaded_model_preds = loaded_model_0(X_test)"
      ],
      "metadata": {
        "id": "IaS_AftVFy0N"
      },
      "execution_count": null,
      "outputs": []
    },
    {
      "cell_type": "code",
      "source": [
        "# Better Version"
      ],
      "metadata": {
        "id": "eZoZFovPGd_p"
      },
      "execution_count": null,
      "outputs": []
    },
    {
      "cell_type": "code",
      "source": [
        "weight, bias = 0.7, 0.3\n",
        "start, end, step = 0, 1, 0.02\n",
        "X = torch.arange(start, end, step).unsqueeze(dim = 1)\n",
        "y = weight * X + step"
      ],
      "metadata": {
        "id": "H4ztgMwAHyRv"
      },
      "execution_count": null,
      "outputs": []
    },
    {
      "cell_type": "code",
      "source": [
        "train_split = int(0.8 * len(X))\n",
        "X_train, y_train = X[:train_split], y[:train_split]\n",
        "X_test, y_test = X[train_split:], y[train_split:]"
      ],
      "metadata": {
        "id": "zxzodVA-H5dW"
      },
      "execution_count": null,
      "outputs": []
    },
    {
      "cell_type": "code",
      "source": [
        "# Subclass nn.Module to make our model\n",
        "class LinearRegressionModelV2(nn.Module):\n",
        "    def __init__(self):\n",
        "        super().__init__()\n",
        "        # Use nn.Linear() for creating the model parameters\n",
        "        self.linear_layer = nn.Linear(in_features=1,\n",
        "                                      out_features=1)\n",
        "\n",
        "    # Define the forward computation (input data x flows through nn.Linear())\n",
        "    def forward(self, x: torch.Tensor) -> torch.Tensor:\n",
        "        return self.linear_layer(x)\n",
        "\n",
        "# Set the manual seed when creating the model (this isn't always needed but is used for demonstrative purposes, try commenting it out and seeing what happens)\n",
        "torch.manual_seed(42)\n",
        "model_1 = LinearRegressionModelV2()\n",
        "model_1, model_1.state_dict()"
      ],
      "metadata": {
        "colab": {
          "base_uri": "https://localhost:8080/"
        },
        "id": "YI0-qM81Imvn",
        "outputId": "fe780640-4dde-4c0a-918d-b6cf45c429b7"
      },
      "execution_count": null,
      "outputs": [
        {
          "output_type": "execute_result",
          "data": {
            "text/plain": [
              "(LinearRegressionModelV2(\n",
              "   (linear_layer): Linear(in_features=1, out_features=1, bias=True)\n",
              " ),\n",
              " OrderedDict([('linear_layer.weight', tensor([[0.7645]])),\n",
              "              ('linear_layer.bias', tensor([0.8300]))]))"
            ]
          },
          "metadata": {},
          "execution_count": 67
        }
      ]
    },
    {
      "cell_type": "code",
      "source": [
        "# loss func https://pytorch.org/docs/stable/nn.html#loss-functions\n",
        "loss_fn = nn.L1Loss() # MAE\n",
        "# opt https://pytorch.org/docs/stable/optim.html\n",
        "optimizer = torch.optim.SGD(params = model_0.parameters(),\n",
        "                            lr = 0.01)"
      ],
      "metadata": {
        "id": "l81L1yVRI0Sv"
      },
      "execution_count": null,
      "outputs": []
    },
    {
      "cell_type": "code",
      "source": [
        "torch.manual_seed(42)\n",
        "\n",
        "# Set the number of epochs\n",
        "epochs = 1000\n",
        "\n",
        "# # Put data on the available device\n",
        "# # Without this, error will happen (not all model/data on device)\n",
        "# X_train = X_train.to(device)\n",
        "# X_test = X_test.to(device)\n",
        "# y_train = y_train.to(device)\n",
        "# y_test = y_test.to(device)\n",
        "\n",
        "for epoch in range(epochs):\n",
        "    ### Training\n",
        "    model_1.train() # train mode is on by default after construction\n",
        "\n",
        "    # 1. Forward pass\n",
        "    y_pred = model_1(X_train)\n",
        "\n",
        "    # 2. Calculate loss\n",
        "    loss = loss_fn(y_pred, y_train)\n",
        "\n",
        "    # 3. Zero grad optimizer\n",
        "    optimizer.zero_grad()\n",
        "\n",
        "    # 4. Loss backward\n",
        "    loss.backward()\n",
        "\n",
        "    # 5. Step the optimizer\n",
        "    optimizer.step()\n",
        "\n",
        "    ### Testing\n",
        "    model_1.eval() # put the model in evaluation mode for testing (inference)\n",
        "    # 1. Forward pass\n",
        "    with torch.inference_mode():\n",
        "        test_pred = model_1(X_test)\n",
        "\n",
        "        # 2. Calculate the loss\n",
        "        test_loss = loss_fn(test_pred, y_test)\n",
        "\n",
        "    if epoch % 100 == 0:\n",
        "        print(f\"Epoch: {epoch} | Train loss: {loss} | Test loss: {test_loss}\")"
      ],
      "metadata": {
        "colab": {
          "base_uri": "https://localhost:8080/"
        },
        "id": "oiaSidfUI1V-",
        "outputId": "fa0ad59a-a7d1-48ad-a9ee-b2b8bf0e66fb"
      },
      "execution_count": null,
      "outputs": [
        {
          "output_type": "stream",
          "name": "stdout",
          "text": [
            "Epoch: 0 | Train loss: 0.835178017616272 | Test loss: 0.8674471974372864\n",
            "Epoch: 100 | Train loss: 0.835178017616272 | Test loss: 0.8674471974372864\n",
            "Epoch: 200 | Train loss: 0.835178017616272 | Test loss: 0.8674471974372864\n",
            "Epoch: 300 | Train loss: 0.835178017616272 | Test loss: 0.8674471974372864\n",
            "Epoch: 400 | Train loss: 0.835178017616272 | Test loss: 0.8674471974372864\n",
            "Epoch: 500 | Train loss: 0.835178017616272 | Test loss: 0.8674471974372864\n",
            "Epoch: 600 | Train loss: 0.835178017616272 | Test loss: 0.8674471974372864\n",
            "Epoch: 700 | Train loss: 0.835178017616272 | Test loss: 0.8674471974372864\n",
            "Epoch: 800 | Train loss: 0.835178017616272 | Test loss: 0.8674471974372864\n",
            "Epoch: 900 | Train loss: 0.835178017616272 | Test loss: 0.8674471974372864\n"
          ]
        }
      ]
    },
    {
      "cell_type": "code",
      "source": [
        "print(model_1.state_dict())\n",
        "print(f\"weights: {weight}, bias: {bias}\")"
      ],
      "metadata": {
        "id": "Bl73_Wz_JCx0",
        "outputId": "92e4b5ab-b443-4896-ea1b-5d2c08dac378",
        "colab": {
          "base_uri": "https://localhost:8080/"
        }
      },
      "execution_count": null,
      "outputs": [
        {
          "output_type": "stream",
          "name": "stdout",
          "text": [
            "OrderedDict([('linear_layer.weight', tensor([[0.7645]])), ('linear_layer.bias', tensor([0.8300]))])\n",
            "weights: 0.7, bias: 0.3\n"
          ]
        }
      ]
    }
  ]
}
